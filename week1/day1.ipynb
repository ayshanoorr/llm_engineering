{
 "cells": [
  {
   "cell_type": "markdown",
   "id": "d15d8294-3328-4e07-ad16-8a03e9bbfdb9",
   "metadata": {},
   "source": [
    "# Instant Gratification\n",
    "\n",
    "## Your first Frontier LLM Project!\n",
    "\n",
    "Let's build a useful LLM solution - in a matter of minutes.\n",
    "\n",
    "By the end of this course, you will have built an autonomous Agentic AI solution with 7 agents that collaborate to solve a business problem. All in good time! We will start with something smaller...\n",
    "\n",
    "Our goal is to code a new kind of Web Browser. Give it a URL, and it will respond with a summary. The Reader's Digest of the internet!!\n",
    "\n",
    "Before starting, you should have completed the setup for [PC](../SETUP-PC.md) or [Mac](../SETUP-mac.md) and you hopefully launched this jupyter lab from within the project root directory, with your environment activated.\n",
    "\n",
    "## If you're new to Jupyter Lab\n",
    "\n",
    "Welcome to the wonderful world of Data Science experimentation! Once you've used Jupyter Lab, you'll wonder how you ever lived without it. Simply click in each \"cell\" with code in it, such as the cell immediately below this text, and hit Shift+Return to execute that cell. As you wish, you can add a cell with the + button in the toolbar, and print values of variables, or try out variations.  \n",
    "\n",
    "I've written a notebook called [Guide to Jupyter](Guide%20to%20Jupyter.ipynb) to help you get more familiar with Jupyter Labs, including adding Markdown comments, using `!` to run shell commands, and `tqdm` to show progress.\n",
    "\n",
    "## If you'd prefer to work in IDEs\n",
    "\n",
    "If you're more comfortable in IDEs like VSCode or Pycharm, they both work great with these lab notebooks too.  \n",
    "If you'd prefer to work in VSCode, [here](https://chatgpt.com/share/676f2e19-c228-8012-9911-6ca42f8ed766) are instructions from an AI friend on how to configure it for the course.\n",
    "\n",
    "## If you'd like to brush up your Python\n",
    "\n",
    "I've added a notebook called [Intermediate Python](Intermediate%20Python.ipynb) to get you up to speed. But you should give it a miss if you already have a good idea what this code does:    \n",
    "`yield from {book.get(\"author\") for book in books if book.get(\"author\")}`\n",
    "\n",
    "## I am here to help\n",
    "\n",
    "If you have any problems at all, please do reach out.  \n",
    "I'm available through the platform, or at ed@edwarddonner.com, or at https://www.linkedin.com/in/eddonner/ if you'd like to connect (and I love connecting!)\n",
    "\n",
    "## More troubleshooting\n",
    "\n",
    "Please see the [troubleshooting](troubleshooting.ipynb) notebook in this folder to diagnose and fix common problems. At the very end of it is a diagnostics script with some useful debug info.\n",
    "\n",
    "## If this is old hat!\n",
    "\n",
    "If you're already comfortable with today's material, please hang in there; you can move swiftly through the first few labs - we will get much more in depth as the weeks progress.\n",
    "\n",
    "<table style=\"margin: 0; text-align: left;\">\n",
    "    <tr>\n",
    "        <td style=\"width: 150px; height: 150px; vertical-align: middle;\">\n",
    "            <img src=\"../important.jpg\" width=\"150\" height=\"150\" style=\"display: block;\" />\n",
    "        </td>\n",
    "        <td>\n",
    "            <h2 style=\"color:#900;\">Please read - important note</h2>\n",
    "            <span style=\"color:#900;\">The way I collaborate with you may be different to other courses you've taken. I prefer not to type code while you watch. Rather, I execute Jupyter Labs, like this, and give you an intuition for what's going on. My suggestion is that you do this with me, either at the same time, or (perhaps better) right afterwards. Add print statements to understand what's going on, and then come up with your own variations. If you have a Github account, use this to showcase your variations. Not only is this essential practice, but it demonstrates your skills to others, including perhaps future clients or employers...</span>\n",
    "        </td>\n",
    "    </tr>\n",
    "</table>\n",
    "<table style=\"margin: 0; text-align: left;\">\n",
    "    <tr>\n",
    "        <td style=\"width: 150px; height: 150px; vertical-align: middle;\">\n",
    "            <img src=\"../business.jpg\" width=\"150\" height=\"150\" style=\"display: block;\" />\n",
    "        </td>\n",
    "        <td>\n",
    "            <h2 style=\"color:#181;\">Business value of these exercises</h2>\n",
    "            <span style=\"color:#181;\">A final thought. While I've designed these notebooks to be educational, I've also tried to make them enjoyable. We'll do fun things like have LLMs tell jokes and argue with each other. But fundamentally, my goal is to teach skills you can apply in business. I'll explain business implications as we go, and it's worth keeping this in mind: as you build experience with models and techniques, think of ways you could put this into action at work today. Please do contact me if you'd like to discuss more or if you have ideas to bounce off me.</span>\n",
    "        </td>\n",
    "    </tr>\n",
    "</table>"
   ]
  },
  {
   "cell_type": "code",
   "execution_count": 2,
   "id": "4e2a9393-7767-488e-a8bf-27c12dca35bd",
   "metadata": {},
   "outputs": [],
   "source": [
    "# imports\n",
    "\n",
    "import os\n",
    "import requests\n",
    "from dotenv import load_dotenv\n",
    "from bs4 import BeautifulSoup\n",
    "from IPython.display import Markdown, display\n",
    "from openai import OpenAI\n",
    "\n",
    "# If you get an error running this cell, then please head over to the troubleshooting notebook!"
   ]
  },
  {
   "cell_type": "markdown",
   "id": "6900b2a8-6384-4316-8aaa-5e519fca4254",
   "metadata": {},
   "source": [
    "# Connecting to OpenAI\n",
    "\n",
    "The next cell is where we load in the environment variables in your `.env` file and connect to OpenAI.\n",
    "\n",
    "## Troubleshooting if you have problems:\n",
    "\n",
    "Head over to the [troubleshooting](troubleshooting.ipynb) notebook in this folder for step by step code to identify the root cause and fix it!\n",
    "\n",
    "If you make a change, try restarting the \"Kernel\" (the python process sitting behind this notebook) by Kernel menu >> Restart Kernel and Clear Outputs of All Cells. Then try this notebook again, starting at the top.\n",
    "\n",
    "Or, contact me! Message me or email ed@edwarddonner.com and we will get this to work.\n",
    "\n",
    "Any concerns about API costs? See my notes in the README - costs should be minimal, and you can control it at every point. You can also use Ollama as a free alternative, which we discuss during Day 2."
   ]
  },
  {
   "cell_type": "code",
   "execution_count": 4,
   "id": "7b87cadb-d513-4303-baee-a37b6f938e4d",
   "metadata": {},
   "outputs": [
    {
     "name": "stdout",
     "output_type": "stream",
     "text": [
      "API key found and looks good so far!\n"
     ]
    }
   ],
   "source": [
    "# Load environment variables in a file called .env\n",
    "\n",
    "load_dotenv(override=True)\n",
    "api_key = os.getenv('OPENAI_API_KEY')\n",
    "\n",
    "# Check the key\n",
    "\n",
    "if not api_key:\n",
    "    print(\"No API key was found - please head over to the troubleshooting notebook in this folder to identify & fix!\")\n",
    "elif not api_key.startswith(\"sk-proj-\"):\n",
    "    print(\"An API key was found, but it doesn't start sk-proj-; please check you're using the right key - see troubleshooting notebook\")\n",
    "elif api_key.strip() != api_key:\n",
    "    print(\"An API key was found, but it looks like it might have space or tab characters at the start or end - please remove them - see troubleshooting notebook\")\n",
    "else:\n",
    "    print(\"API key found and looks good so far!\")\n"
   ]
  },
  {
   "cell_type": "code",
   "execution_count": 6,
   "id": "019974d9-f3ad-4a8a-b5f9-0a3719aea2d3",
   "metadata": {},
   "outputs": [],
   "source": [
    "openai = OpenAI()\n",
    "\n",
    "# If this doesn't work, try Kernel menu >> Restart Kernel and Clear Outputs Of All Cells, then run the cells from the top of this notebook down.\n",
    "# If it STILL doesn't work (horrors!) then please see the Troubleshooting notebook in this folder for full instructions"
   ]
  },
  {
   "cell_type": "markdown",
   "id": "442fc84b-0815-4f40-99ab-d9a5da6bda91",
   "metadata": {},
   "source": [
    "# Let's make a quick call to a Frontier model to get started, as a preview!"
   ]
  },
  {
   "cell_type": "code",
   "execution_count": 14,
   "id": "a58394bf-1e45-46af-9bfd-01e24da6f49a",
   "metadata": {},
   "outputs": [
    {
     "name": "stdout",
     "output_type": "stream",
     "text": [
      "When considering starting a high-return business in Pakistan in 2025, it's important to factor in current economic trends, consumer demand, regulatory landscape (including tax laws), digital infrastructure, and ease of doing business. Below are some businesses with strong potential for high returns, along with brief explanations tailored to the Pakistani context:\n",
      "\n",
      "---\n",
      "\n",
      "## 1. **E-Commerce & Online Marketplaces**\n",
      "- **Why:** Rapid adoption of internet and smartphones, thriving youth demographic, and improved logistics.\n",
      "- **Demand:** Online groceries, electronics, fashion, and niche products like books or organic food.\n",
      "- **Tax/Laws:** Registering for sales tax (FBR), company, or sole proprietorship; documentation requirements increasing but also digital onboarding options.\n",
      "- **High Return:** Low overhead, scalable, access to large markets.\n",
      "\n",
      "---\n",
      "\n",
      "## 2. **IT Services and Software Export**\n",
      "- **Why:** Pakistan is encouraging IT exports with tax incentives (IT exporters currently get tax exemptions up to 2030, if registered and compliant).\n",
      "- **Demand:** Global for software, app development, digital marketing, and freelancing platforms.\n",
      "- **Tax/Laws:** Register as exporter; tax compliance/documentation is vital for incentives.\n",
      "- **High Return:** Dollar earnings, low initial investment, remote work enabled.\n",
      "\n",
      "---\n",
      "\n",
      "## 3. **Renewable Energy Solutions (Solar, Inverters)**\n",
      "- **Why:** Rising electricity costs, power shortages, and favorable government policies (reduced import duties, net metering).\n",
      "- **Demand:** Both urban and rural, commercial and household solar panel installation.\n",
      "- **Tax/Laws:** GST applicable, register with FBR; government incentives are often available.\n",
      "- **High Return:** Strong ROI for installers and importers; recurring earnings via maintenance.\n",
      "\n",
      "---\n",
      "\n",
      "## 4. **Agribusiness (Value-Added Food Processing)**\n",
      "- **Why:** Agriculture backbone of the economy; shifting consumer demand towards packaged and safe food.\n",
      "- **Demand:** Dairy processing (cheese, yogurt), packaged snacks, organic farming.\n",
      "- **Tax/Laws:** Food industry requires registration with provincial food authorities, compliance with PSQCA, sales/income tax.\n",
      "- **High Return:** Rapidly growing middle class, export opportunities.\n",
      "\n",
      "---\n",
      "\n",
      "## 5. **Education Tech (EdTech)**\n",
      "- **Why:** Education demand is high, especially after post-COVID shift to hybrid/online learning; regulatory frameworks are becoming supportive.\n",
      "- **Demand:** Online tuition, test prep, coding classes, upskilling platforms.\n",
      "- **Tax/Laws:** Education services often have tax exemptions, but commercial EdTech may be taxed; must register accordingly.\n",
      "- **High Return:** Scalable, can serve national/international students online.\n",
      "\n",
      "---\n",
      "\n",
      "## 6. **Fintech & Digital Payment Solutions**\n",
      "- **Why:** Government push for digital payments (Raast, SBP policies), large unbanked population.\n",
      "- **Demand:** Digital wallets, payment gateways, POS solutions.\n",
      "- **Tax/Laws:** Rigorous SBP licensing, compliance, and KYC/AML protocols; considerable regulatory navigation required.\n",
      "- **High Return:** High transaction volumes, recurring revenue, potential acquisition by banks.\n",
      "\n",
      "---\n",
      "\n",
      "## 7. **Healthcare Services & Telemedicine**\n",
      "- **Why:** Growing awareness, urbanization, and healthcare investment.\n",
      "- **Demand:** Diagnostic labs, home healthcare services, telemedicine platforms.\n",
      "- **Tax/Laws:** PMDC or provincial licenses for clinics, tax benefits for medical equipment, must comply with health data protection laws.\n",
      "- **High Return:** High demand, especially in underserved areas.\n",
      "\n",
      "---\n",
      "\n",
      "## 8. **Logistics, Courier, and Last-Mile Delivery**\n",
      "- **Why:** E-commerce boom fuels demand; poor existing logistics offer opportunities for innovation.\n",
      "- **Demand:** Urban and intercity courier, food delivery, “dark stores”.\n",
      "- **Tax/Laws:** Commercial registration, vehicle fitness/tax, GST.\n",
      "- **High Return:** High volume, franchising opportunities.\n",
      "\n",
      "---\n",
      "\n",
      "## 9. **Construction and Real Estate (Affordable Housing)**\n",
      "- **Why:** Government incentives (subsidized loans, amnesty for real estate investments), urban population growth.\n",
      "- **Demand:** Low-cost housing projects, small apartments, rental properties.\n",
      "- **Tax/Laws:** Construction sector enjoys reduced taxes under recent packages; documentation is stricter but regulatory regime is more transparent.\n",
      "- **High Return:** High margins, possibility of quick turnover with right connections.\n",
      "\n",
      "---\n",
      "\n",
      "## 10. **Travel, Tourism, and Hospitality (Eco/Heritage Niche)**\n",
      "- **Why:** Pakistan’s image improving globally; domestic tourism rising; several visa and tax incentives.\n",
      "- **Demand:** Boutique hotels, eco-tourism, guided tours, adventure sports.\n",
      "- **Tax/Laws:** Provincial tourism department registration, sales tax on services.\n",
      "- **High Return:** If well-marketed and safe, can tap into local and international customers.\n",
      "\n",
      "---\n",
      "\n",
      "### **Key Considerations**\n",
      "- **Taxation:** FBR and provincial tax authorities have improved digitization, but documentation and compliance are stricter. Seek professional advice.\n",
      "- **Registration:** SECP for companies, provincial authorities for some trades (food, health, education).\n",
      "- **Financing:** State Bank and various microfinance programs, especially for women/youth entrepreneurs.\n",
      "- **Green/Tech Startups:** Extra government support—look for grants and incubation centers (Ignite, NICs, etc.).\n",
      "\n",
      "---\n",
      "\n",
      "**Summary:**  \n",
      "The highest return sectors for 2025 are likely to be in digital/IT, value-added agriculture, sustainable energy, e-commerce, and service-based sectors, all supported by evolving laws and demand. Ensure proper legal, tax, and regulatory compliance to maximize long-term return and minimize business risk.\n",
      "\n",
      "If you need tailored advice for a specific sector or risk profile, please specify.\n"
     ]
    }
   ],
   "source": [
    "# To give you a preview -- calling OpenAI with these messages is this easy. Any problems, head over to the Troubleshooting notebook.\n",
    "\n",
    "# message = \"Which GPT model is up to date with the latest information from the web?\"\n",
    "message = \"Considering Pakistani economy, demand, tax laws and other relevant laws, what are some high return businesses to do in 2025 in Pakistan?\"\n",
    "response = openai.chat.completions.create(model=\"gpt-4.1\", messages=[{\"role\":\"user\", \"content\":message}])\n",
    "print(response.choices[0].message.content)"
   ]
  },
  {
   "cell_type": "markdown",
   "id": "2aa190e5-cb31-456a-96cc-db109919cd78",
   "metadata": {},
   "source": [
    "## OK onwards with our first project"
   ]
  },
  {
   "cell_type": "code",
   "execution_count": 25,
   "id": "c5e793b2-6775-426a-a139-4848291d0463",
   "metadata": {},
   "outputs": [],
   "source": [
    "# A class to represent a Webpage\n",
    "# If you're not familiar with Classes, check out the \"Intermediate Python\" notebook\n",
    "\n",
    "# Some websites need you to use proper headers when fetching them:\n",
    "headers = {\n",
    " \"User-Agent\": \"Mozilla/5.0 (Windows NT 10.0; Win64; x64) AppleWebKit/537.36 (KHTML, like Gecko) Chrome/117.0.0.0 Safari/537.36\"\n",
    "}\n",
    "\n",
    "class Website:\n",
    "\n",
    "    def __init__(self, url):\n",
    "        \"\"\"\n",
    "        Create this Website object from the given url using the BeautifulSoup library\n",
    "        \"\"\"\n",
    "        self.url = url\n",
    "        response = requests.get(url, headers=headers)\n",
    "        soup = BeautifulSoup(response.content, 'html.parser')\n",
    "        self.title = soup.title.string if soup.title else \"No title found\"\n",
    "        for irrelevant in soup.body([\"script\", \"style\", \"img\", \"input\"]):\n",
    "            irrelevant.decompose()\n",
    "        self.text = soup.body.get_text(separator=\"\\n\", strip=True)"
   ]
  },
  {
   "cell_type": "code",
   "execution_count": 27,
   "id": "2ef960cf-6dc2-4cda-afb3-b38be12f4c97",
   "metadata": {},
   "outputs": [],
   "source": [
    "# Let's try one out. Change the website and add print statements to follow along.\n",
    "\n",
    "web = Website(\"https://elisagabbert.medium.com/every-book-i-read-in-2024-with-commentary-773a2ee6e6f4\")\n",
    "# print(web.title)\n",
    "# print(web.text)"
   ]
  },
  {
   "cell_type": "markdown",
   "id": "6a478a0c-2c53-48ff-869c-4d08199931e1",
   "metadata": {},
   "source": [
    "## Types of prompts\n",
    "\n",
    "You may know this already - but if not, you will get very familiar with it!\n",
    "\n",
    "Models like GPT4o have been trained to receive instructions in a particular way.\n",
    "\n",
    "They expect to receive:\n",
    "\n",
    "**A system prompt** that tells them what task they are performing and what tone they should use\n",
    "\n",
    "**A user prompt** -- the conversation starter that they should reply to"
   ]
  },
  {
   "cell_type": "code",
   "execution_count": 11,
   "id": "abdb8417-c5dc-44bc-9bee-2e059d162699",
   "metadata": {},
   "outputs": [],
   "source": [
    "# Define our system prompt - you can experiment with this later, changing the last sentence to 'Respond in markdown in Spanish.\"\n",
    "\n",
    "system_prompt = \"You are an assistant that analyzes the contents of a website \\\n",
    "and provides a short summary, ignoring text that might be navigation related. \\\n",
    "Respond in markdown.\""
   ]
  },
  {
   "cell_type": "code",
   "execution_count": 12,
   "id": "f0275b1b-7cfe-4f9d-abfa-7650d378da0c",
   "metadata": {},
   "outputs": [],
   "source": [
    "# A function that writes a User Prompt that asks for summaries of websites:\n",
    "\n",
    "def user_prompt_for(website):\n",
    "    user_prompt = f\"You are looking at a website titled {website.title}\"\n",
    "    user_prompt += \"\\nThe contents of this website is as follows; \\\n",
    "please provide a short summary of this website in markdown. \\\n",
    "If it includes news or announcements, then summarize these too.\\n\\n\"\n",
    "    user_prompt += website.text\n",
    "    return user_prompt"
   ]
  },
  {
   "cell_type": "code",
   "execution_count": 19,
   "id": "26448ec4-5c00-4204-baec-7df91d11ff2e",
   "metadata": {},
   "outputs": [],
   "source": [
    "# print(user_prompt_for(web))"
   ]
  },
  {
   "cell_type": "markdown",
   "id": "ea211b5f-28e1-4a86-8e52-c0b7677cadcc",
   "metadata": {},
   "source": [
    "## Messages\n",
    "\n",
    "The API from OpenAI expects to receive messages in a particular structure.\n",
    "Many of the other APIs share this structure:\n",
    "\n",
    "```\n",
    "[\n",
    "    {\"role\": \"system\", \"content\": \"system message goes here\"},\n",
    "    {\"role\": \"user\", \"content\": \"user message goes here\"}\n",
    "]\n",
    "\n",
    "To give you a preview, the next 2 cells make a rather simple call - we won't stretch the might GPT (yet!)"
   ]
  },
  {
   "cell_type": "code",
   "execution_count": 14,
   "id": "f25dcd35-0cd0-4235-9f64-ac37ed9eaaa5",
   "metadata": {},
   "outputs": [],
   "source": [
    "messages = [\n",
    "    {\"role\": \"system\", \"content\": \"You are a snarky assistant\"},\n",
    "    {\"role\": \"user\", \"content\": \"What is 2 + 2?\"}\n",
    "]"
   ]
  },
  {
   "cell_type": "code",
   "execution_count": 15,
   "id": "21ed95c5-7001-47de-a36d-1d6673b403ce",
   "metadata": {},
   "outputs": [
    {
     "name": "stdout",
     "output_type": "stream",
     "text": [
      "Oh, you know, just a little brain teaser! The answer is 4. Mind-blowing, right?\n"
     ]
    }
   ],
   "source": [
    "# To give you a preview -- calling OpenAI with system and user messages:\n",
    "\n",
    "response = openai.chat.completions.create(model=\"gpt-4o-mini\", messages=messages)\n",
    "print(response.choices[0].message.content)"
   ]
  },
  {
   "cell_type": "markdown",
   "id": "d06e8d78-ce4c-4b05-aa8e-17050c82bb47",
   "metadata": {},
   "source": [
    "## And now let's build useful messages for GPT-4o-mini, using a function"
   ]
  },
  {
   "cell_type": "code",
   "execution_count": 16,
   "id": "0134dfa4-8299-48b5-b444-f2a8c3403c88",
   "metadata": {},
   "outputs": [],
   "source": [
    "# See how this function creates exactly the format above\n",
    "\n",
    "def messages_for(website):\n",
    "    return [\n",
    "        {\"role\": \"system\", \"content\": system_prompt},\n",
    "        {\"role\": \"user\", \"content\": user_prompt_for(website)}\n",
    "    ]"
   ]
  },
  {
   "cell_type": "code",
   "execution_count": 17,
   "id": "36478464-39ee-485c-9f3f-6a4e458dbc9c",
   "metadata": {},
   "outputs": [],
   "source": [
    "# Try this out, and then try for a few more websites\n",
    "\n",
    "# messages_for(web)"
   ]
  },
  {
   "cell_type": "markdown",
   "id": "16f49d46-bf55-4c3e-928f-68fc0bf715b0",
   "metadata": {},
   "source": [
    "## Time to bring it together - the API for OpenAI is very simple!"
   ]
  },
  {
   "cell_type": "code",
   "execution_count": 18,
   "id": "905b9919-aba7-45b5-ae65-81b3d1d78e34",
   "metadata": {},
   "outputs": [],
   "source": [
    "# And now: call the OpenAI API. You will get very familiar with this!\n",
    "\n",
    "def summarize(url):\n",
    "    website = Website(url)\n",
    "    response = openai.chat.completions.create(\n",
    "        model = \"gpt-4o-mini\",\n",
    "        messages = messages_for(website)\n",
    "    )\n",
    "    return response.choices[0].message.content"
   ]
  },
  {
   "cell_type": "code",
   "execution_count": 19,
   "id": "05e38d41-dfa4-4b20-9c96-c46ea75d9fb5",
   "metadata": {},
   "outputs": [],
   "source": [
    "summary = summarize(web.url)"
   ]
  },
  {
   "cell_type": "code",
   "execution_count": 20,
   "id": "3d926d59-450e-4609-92ba-2d6f244f1342",
   "metadata": {},
   "outputs": [],
   "source": [
    "# A function to display this nicely in the Jupyter output, using markdown\n",
    "\n",
    "def display_summary(summary):\n",
    "    display(Markdown(summary))"
   ]
  },
  {
   "cell_type": "code",
   "execution_count": 21,
   "id": "3018853a-445f-41ff-9560-d925d1774b2f",
   "metadata": {},
   "outputs": [
    {
     "data": {
      "text/markdown": [
       "# Summary of \"Every Book I Read in 2024, with Commentary\"\n",
       "\n",
       "This Medium article by Elisa Gabbert reflects on her reading journey over the year 2024 and marks the tenth installment of her reading lists, as she has been keeping track since 2015. Gabbert shares her thoughts on how these lists have impacted her reading and her life overall. Key aspects of the year include the release of her book *Any Person Is the Only Self*, which focuses on reading and has been well-received by readers.\n",
       "\n",
       "Throughout the article, Gabbert provides a detailed list of books she read in 2024, categorized into fiction, nonfiction, and poetry, sharing her insights and commentary on each selection. She mentions notable activities and experiences, such as attending art events and enjoying memorable meals. \n",
       "\n",
       "## Highlights of Gabbert's Reading List:\n",
       "- **Fiction**:\n",
       "  - *God Bless You, Otis Spunkmeyer* by Joseph Earl Thomas—Explores complex themes of identity and reality.\n",
       "  - *Dayswork* by Chris Bachelder and Jennifer Habel—A narrative intertwining Melville's life with a mother's reflections amid pandemic chaos.\n",
       "\n",
       "- **Nonfiction**:\n",
       "  - *The Copenhagen Trilogy* by Tove Ditlevsen—A set of memoirs dealing with themes of poverty and creativity.\n",
       "  - *Written Lives* by Javier Marias—A collection of quirky biographies of famous authors.\n",
       "\n",
       "- **Poetry**:\n",
       "  - *In Springtime* by Sarah Blake—An intricate narrative poem with a dream-like quality.\n",
       "  - *Wrong Norma* by Anne Carson—A collection that defies genre, blending poetry and prose.\n",
       "\n",
       "## Favorites of the Year:\n",
       "- Favorite Fiction: *Dayswork* and *Lonesome Dove*.\n",
       "- Favorite Nonfiction: *About Looking* and *Written Lives*.\n",
       "- Favorite Poetry: *In Springtime* and *Wrong Norma*.\n",
       "\n",
       "Gabbert concludes the article by encouraging readers to share their own favorite reads from the year. \n",
       "\n",
       "Overall, this yearly reflection serves as a personal and insightful record of Gabbert's literary journey, celebrating both the books and the joys of reading."
      ],
      "text/plain": [
       "<IPython.core.display.Markdown object>"
      ]
     },
     "metadata": {},
     "output_type": "display_data"
    }
   ],
   "source": [
    "display_summary(summary)"
   ]
  },
  {
   "cell_type": "markdown",
   "id": "b3bcf6f4-adce-45e9-97ad-d9a5d7a3a624",
   "metadata": {},
   "source": [
    "# Let's try more websites\n",
    "\n",
    "Note that this will only work on websites that can be scraped using this simplistic approach.\n",
    "\n",
    "Websites that are rendered with Javascript, like React apps, won't show up. See the community-contributions folder for a Selenium implementation that gets around this. You'll need to read up on installing Selenium (ask ChatGPT!)\n",
    "\n",
    "Also Websites protected with CloudFront (and similar) may give 403 errors - many thanks Andy J for pointing this out.\n",
    "\n",
    "But many websites will work just fine!"
   ]
  },
  {
   "cell_type": "code",
   "execution_count": 24,
   "id": "45d83403-a24c-44b5-84ac-961449b4008f",
   "metadata": {},
   "outputs": [
    {
     "data": {
      "text/markdown": [
       "## Summary of \"You can teach others how to respect your time\"\n",
       "\n",
       "### Overview\n",
       "This article from The Medium Blog discusses strategies for managing time effectively and ensuring that others respect your schedule. It emphasizes the importance of setting boundaries and valuing one’s own time as a means to influence how others perceive and treat it.\n",
       "\n",
       "### Key Points\n",
       "- **Calendar Management:** Some professionals start the year by deleting all recurring meetings to only reinstate necessary ones. Hunter Walk’s approach in 2020 involved completely reassessing his calendar to identify what truly mattered.\n",
       "- **Meeting Cost Awareness:** Meetings can be costly; a 30-minute meeting with three attendees can range from $700 to $1,600, which increases with the presence of executives. Meetings should have a clear goal, and attendees should be necessary for achieving that goal.\n",
       "- **Value of Time:** \"Guard your calendar like it’s your wallet.\" People are likely to value your time as much as you do. Saying \"no\" to unnecessary commitments is encouraged.\n",
       "  \n",
       "### Additional Readings\n",
       "- **Game Development:** Anastasia Laczko shares her experience in creating a mobile game about animated sandwiches, focusing on the importance of scalability and user enjoyment.\n",
       "- **Empathy and Accountability:** A quote by Victoria Corindi highlights the balance needed between empathy and accountability in interactions.\n",
       "- **Cultural Awareness:** A reflection on a historical study regarding children's perceptions of race is tied to an effort by writer Osi I. to enhance diversity awareness in kids through doll gifting.\n",
       "\n",
       "### Procrastination Insight\n",
       "A tip provided suggests that procrastination often stems from a fear of losing something by moving forward. \n",
       "\n",
       "This newsletter encourages readers to continuously deepen their understanding through reflection and practical wisdom."
      ],
      "text/plain": [
       "<IPython.core.display.Markdown object>"
      ]
     },
     "metadata": {},
     "output_type": "display_data"
    }
   ],
   "source": [
    "summary = summarize(\"https://medium.com/blog/you-can-teach-others-how-to-respect-your-time-a98481dae129\")\n",
    "display_summary(summary)"
   ]
  },
  {
   "cell_type": "code",
   "execution_count": null,
   "id": "75e9fd40-b354-4341-991e-863ef2e59db7",
   "metadata": {},
   "outputs": [],
   "source": [
    "display_summary(\"https://anthropic.com\")"
   ]
  },
  {
   "cell_type": "markdown",
   "id": "c951be1a-7f1b-448f-af1f-845978e47e2c",
   "metadata": {},
   "source": [
    "<table style=\"margin: 0; text-align: left;\">\n",
    "    <tr>\n",
    "        <td style=\"width: 150px; height: 150px; vertical-align: middle;\">\n",
    "            <img src=\"../business.jpg\" width=\"150\" height=\"150\" style=\"display: block;\" />\n",
    "        </td>\n",
    "        <td>\n",
    "            <h2 style=\"color:#181;\">Business applications</h2>\n",
    "            <span style=\"color:#181;\">In this exercise, you experienced calling the Cloud API of a Frontier Model (a leading model at the frontier of AI) for the first time. We will be using APIs like OpenAI at many stages in the course, in addition to building our own LLMs.\n",
    "\n",
    "More specifically, we've applied this to Summarization - a classic Gen AI use case to make a summary. This can be applied to any business vertical - summarizing the news, summarizing financial performance, summarizing a resume in a cover letter - the applications are limitless. Consider how you could apply Summarization in your business, and try prototyping a solution.</span>\n",
    "        </td>\n",
    "    </tr>\n",
    "</table>\n",
    "\n",
    "<table style=\"margin: 0; text-align: left;\">\n",
    "    <tr>\n",
    "        <td style=\"width: 150px; height: 150px; vertical-align: middle;\">\n",
    "            <img src=\"../important.jpg\" width=\"150\" height=\"150\" style=\"display: block;\" />\n",
    "        </td>\n",
    "        <td>\n",
    "            <h2 style=\"color:#900;\">Before you continue - now try yourself</h2>\n",
    "            <span style=\"color:#900;\">Use the cell below to make your own simple commercial example. Stick with the summarization use case for now. Here's an idea: write something that will take the contents of an email, and will suggest an appropriate short subject line for the email. That's the kind of feature that might be built into a commercial email tool.</span>\n",
    "        </td>\n",
    "    </tr>\n",
    "</table>"
   ]
  },
  {
   "cell_type": "code",
   "execution_count": 33,
   "id": "00743dac-0e70-45b7-879a-d7293a6f68a6",
   "metadata": {},
   "outputs": [
    {
     "name": "stdout",
     "output_type": "stream",
     "text": [
      "Great to hear you have some free time! Here’s a structured plan to make the most of your day, along with some deep cleaning activities you might want to incorporate:\n",
      "\n",
      "### Daily Cleaning Tasks:\n",
      "1. **Quick Clean of Common Areas**:\n",
      "   - Tidy up the living room (fold blankets, fluff cushions).\n",
      "   - Wipe down kitchen counters and dining table.\n",
      "   - Sweep/vacuum high-traffic areas.\n",
      "\n",
      "2. **Laundry**:\n",
      "   - Start a load of laundry (clothes, towels, etc.). Consider doing a separate load for delicates if needed.\n",
      "\n",
      "3. **Kitchen**:\n",
      "   - Clean the inside of the microwave.\n",
      "   - Wipe down the fridge exterior and handles.\n",
      "\n",
      "### Deep Cleaning Activities:\n",
      "1. **Bathroom**:\n",
      "   - Scrub the shower/tub to remove soap scum.\n",
      "   - Clean the grout between tiles with a baking soda paste.\n",
      "   - Organize bathroom cabinets and check for expired products.\n",
      "\n",
      "2. **Living Room**:\n",
      "   - Dust ceiling fans and light fixtures.\n",
      "   - Deep clean upholstered furniture with a fabric cleaner or vacuum with an upholstery attachment.\n",
      "   - Wash curtains or dust blinds.\n",
      "\n",
      "3. **Kitchen**:\n",
      "   - Pull out appliances (e.g., toaster, microwave) and clean underneath and behind them.\n",
      "   - Clean inside the oven and the dishwasher.\n",
      "\n",
      "4. **Bedrooms**:\n",
      "   - Rotate and vacuum the mattress. Consider adding mattress protector if you don't already have one.\n",
      "   - Declutter and organize closets, donate items you no longer wear.\n",
      "   - Dust baseboards and window sills.\n",
      "\n",
      "5. **Floors**:\n",
      "   - Mop hard floors thoroughly after vacuuming.\n",
      "   - If you have rugs, consider deep cleaning them, or even taking them outside to air out.\n",
      "\n",
      "6. **Home Office (if applicable)**:\n",
      "   - Organize papers and files, shred what’s no longer needed.\n",
      "   - Dust electronic devices and clean your desk.\n",
      "\n",
      "### Final Touches:\n",
      "- Light a candle or use air freshener to make everything smell good.\n",
      "- Take a moment at the end of the day to admire your hard work!\n",
      "\n",
      "### Reminder List:\n",
      "- Check or refill your cleaning supplies.\n",
      "- Consider creating a cleaning schedule to maintain these tasks regularly.\n",
      "\n",
      "Feel free to adjust this list based on your priorities, and let me know if you need specific cleaning tips or recipes for natural cleaners! Happy cleaning!\n"
     ]
    }
   ],
   "source": [
    "# Step 1: Create your prompts\n",
    "\n",
    "system_prompt = \"You are a private assistant helping a housewife organise all home related tasks such as cooking, cleaning, laundry etc. You will also assist her by suggesting chores that she may have forgotten.\"\n",
    "user_prompt = \"\"\"\n",
    "    The kids have left for school and I can finally get somethings done at home. Help me figure out where to start and suggest some deep cleaning activities as well.\n",
    "\"\"\"\n",
    "\n",
    "# Step 2: Make the messages list\n",
    "\n",
    "messages = [\n",
    "    {\"role\": \"system\", \"content\": system_prompt},\n",
    "    {\"role\": \"user\", \"content\": user_prompt}\n",
    "] # fill this in\n",
    "\n",
    "# Step 3: Call OpenAI\n",
    "\n",
    "response = openai.chat.completions.create(model=\"gpt-4o-mini\", messages=messages)\n",
    "\n",
    "# Step 4: print the result\n",
    "\n",
    "print(response.choices[0].message.content)"
   ]
  },
  {
   "cell_type": "markdown",
   "id": "36ed9f14-b349-40e9-a42c-b367e77f8bda",
   "metadata": {},
   "source": [
    "## An extra exercise for those who enjoy web scraping\n",
    "\n",
    "You may notice that if you try `display_summary(\"https://openai.com\")` - it doesn't work! That's because OpenAI has a fancy website that uses Javascript. There are many ways around this that some of you might be familiar with. For example, Selenium is a hugely popular framework that runs a browser behind the scenes, renders the page, and allows you to query it. If you have experience with Selenium, Playwright or similar, then feel free to improve the Website class to use them. In the community-contributions folder, you'll find an example Selenium solution from a student (thank you!)"
   ]
  },
  {
   "cell_type": "markdown",
   "id": "eeab24dc-5f90-4570-b542-b0585aca3eb6",
   "metadata": {},
   "source": [
    "# Sharing your code\n",
    "\n",
    "I'd love it if you share your code afterwards so I can share it with others! You'll notice that some students have already made changes (including a Selenium implementation) which you will find in the community-contributions folder. If you'd like add your changes to that folder, submit a Pull Request with your new versions in that folder and I'll merge your changes.\n",
    "\n",
    "If you're not an expert with git (and I am not!) then GPT has given some nice instructions on how to submit a Pull Request. It's a bit of an involved process, but once you've done it once it's pretty clear. As a pro-tip: it's best if you clear the outputs of your Jupyter notebooks (Edit >> Clean outputs of all cells, and then Save) for clean notebooks.\n",
    "\n",
    "Here are good instructions courtesy of an AI friend:  \n",
    "https://chatgpt.com/share/677a9cb5-c64c-8012-99e0-e06e88afd293"
   ]
  }
 ],
 "metadata": {
  "kernelspec": {
   "display_name": "Python 3 (ipykernel)",
   "language": "python",
   "name": "python3"
  },
  "language_info": {
   "codemirror_mode": {
    "name": "ipython",
    "version": 3
   },
   "file_extension": ".py",
   "mimetype": "text/x-python",
   "name": "python",
   "nbconvert_exporter": "python",
   "pygments_lexer": "ipython3",
   "version": "3.10.9"
  }
 },
 "nbformat": 4,
 "nbformat_minor": 5
}
