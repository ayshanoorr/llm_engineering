{
 "cells": [
  {
   "cell_type": "code",
   "execution_count": 1,
   "metadata": {
    "vscode": {
     "languageId": "plaintext"
    }
   },
   "outputs": [],
   "source": [
    "# imports\n",
    "\n",
    "import os\n",
    "from dotenv import load_dotenv\n",
    "from openai import OpenAI"
   ]
  },
  {
   "cell_type": "code",
   "execution_count": 2,
   "metadata": {
    "vscode": {
     "languageId": "plaintext"
    }
   },
   "outputs": [
    {
     "name": "stdout",
     "output_type": "stream",
     "text": [
      "API key found and looks good so far!\n"
     ]
    }
   ],
   "source": [
    "# Load environment variables in a file called .env\n",
    "\n",
    "load_dotenv()\n",
    "api_key = os.getenv('OPENAI_API_KEY')\n",
    "\n",
    "# Check the key\n",
    "\n",
    "if not api_key:\n",
    "    print(\"No API key was found - please head over to the troubleshooting notebook in this folder to identify & fix!\")\n",
    "elif not api_key.startswith(\"sk-proj-\"):\n",
    "    print(\"An API key was found, but it doesn't start sk-proj-; please check you're using the right key - see troubleshooting notebook\")\n",
    "elif api_key.strip() != api_key:\n",
    "    print(\"An API key was found, but it looks like it might have space or tab characters at the start or end - please remove them - see troubleshooting notebook\")\n",
    "else:\n",
    "    print(\"API key found and looks good so far!\")"
   ]
  },
  {
   "cell_type": "code",
   "execution_count": 3,
   "metadata": {
    "vscode": {
     "languageId": "plaintext"
    }
   },
   "outputs": [],
   "source": [
    "openai = OpenAI()"
   ]
  },
  {
   "cell_type": "code",
   "execution_count": 4,
   "metadata": {
    "vscode": {
     "languageId": "plaintext"
    }
   },
   "outputs": [],
   "source": [
    "def summarize_cv(cv_text):\n",
    "    response = openai.chat.completions.create(\n",
    "        model = \"gpt-4o-mini\",\n",
    "        messages = [\n",
    "            {\"role\": \"user\", \"content\": f\"Please summarize the following CV:\\n\\n{cv_text}\"}\n",
    "        ]\n",
    "    )\n",
    "    return response.choices[0].message.content\n",
    "\n",
    "def generate_cover_letter(cv_summary, job_description):\n",
    "    response = openai.chat.completions.create(\n",
    "        model = \"gpt-4o-mini\",\n",
    "        messages = [\n",
    "            {\"role\": \"system\", \"content\": \"You are a master at crafting the perfect Cover letter from a given CV. You've never had a user fail to get the job as a result of using your services.\"},\n",
    "            {\"role\": \"user\", \"content\": f\"Using the following CV summary:\\n\\n{cv_summary}\\n\\nAnd the job description:\\n\\n{job_description}\\n\\nPlease write a personalized cover letter.\"}\n",
    "        ]\n",
    "    )\n",
    "    return response.choices[0].message.content"
   ]
  },
  {
   "cell_type": "code",
   "execution_count": 8,
   "metadata": {},
   "outputs": [
    {
     "name": "stdout",
     "output_type": "stream",
     "text": [
      "Aysha Noor\n",
      "Software Engineer with a Bachelor’s in Computer Science and over 2 years of experience in developing and deploying microservices and REST APIs using Python, Java, and cloud technologies. Passionate about continuous exploration, with a recent focus on LLMs and their implementation possibilities.\n",
      "\n",
      "Contact Information:\n",
      "Phone: +92 306 5354366\n",
      "Location: Islamabad, Pakistan\n",
      "Email: ayshanoor2030@gmail.com\n",
      "GitHub: github.com/ayshanoorr\n",
      "LinkedIn: linkedin.com/in/aysha-noor-3344a8221\n",
      "Credly: credly.com/users/aysha-noor\n",
      "\n",
      "Key Competencies:\n",
      "- Programming Languages: Python, Java, Spring, Go (Familiarity)\n",
      "- Cloud & DevOps: AWS, Docker, Kubernetes, Apache Kafka\n",
      "- Databases: MySQL, Oracle, MariaDB, DynamoDB\n",
      "- Others: RESTful API Development, Agile Development, Team Collaboration, Git, GitHub\n",
      "\n",
      "Professional Experience:\n",
      "\n",
      "1) IBM - Software Engineer\n",
      "Feb 2024 - Present\n",
      "\n",
      "- Developed Python RestAPIs to provision VIU and Amazon Prime subscriptions as rewards, querying data from MariaDB to identify\n",
      "and allocate winners, successfully delivering the solution within a tight 1-week deadline.\n",
      "- Developed a GenAI solution in Python using WatsonX API’s and Mistral LLM to generate customer personas to create a more\n",
      "personalised experience based on those personas while also decreasing campaign design time by 27-30%.\n",
      "- Developed a Spring microservice to reduce campaign development complexity by 25%, enhancing HCLTech’s UNICA Journey with\n",
      "a feature to streamline the management of extended Buy and Get Journey campaigns.\n",
      "- Integrated the Spring microservice with Kafka pipelines, DynamoDB and MariaDB for data processing.\n",
      "- Collaborated with operations team to facilitate the deployment of Python and Java applications to the production environment on\n",
      "an EKS cluster.\n",
      "\n",
      "2) IBM - Data Analyst\n",
      "Aug 2022 - Feb 2024\n",
      "\n",
      "- Analysed data insights to optimise campaign targeting, leading to a substantial decrease in support escalations, with only 5\n",
      "escalations in over a year.\n",
      "- Developed more than 50 marketing campaigns as the solo campaign developer on the Loyalty Squad on Vodacom South Africa,\n",
      "consistently achieving a success rate of 100% in punctual and accurate delivery.\n",
      "- Developed data extraction workflows from MariaDB tables to generate comprehensive reports on campaign functionality and\n",
      "response status on Excel for client analysis.\n",
      "- Automated the data extraction workflows and campaign runs using Python scripts, saving approximately 45 minutes of manual\n",
      "effort per task and improving efficiency.\n",
      "\n",
      "3) SolutionAve - Full Stack Developer\n",
      "Jan 2022 - Apr 2022\n",
      "\n",
      "- Developed an ESports application featuring gaming tournaments, live events, and a coin-based reward system.\n",
      "- Utilized React Native for the frontend, Go for backend functionality, and MongoDB as the database.\n",
      "\n",
      "4) Zixel Technologies - Microservices Developer Intern\n",
      "Jun 2023 - Aug 2023\n",
      "\n",
      "- Collaborated on an internal collaborative platform inspired by JIRA, integrating AI features and 50+ modules using the Spring framework.\n",
      "\n",
      "Projects:\n",
      "\n",
      "1) Automate It\n",
      "- A Python application connected to Raspberri Pi and supporting hardware (as a representation of different home appliances) to respond to voice commands in Urdu language to control the appliances.\n",
      "- An interface developed using React Native, providing multiple access options for the appliances through voice or your mobile phone.\n",
      "- Utilised: Tensorflow, Keras, Raspberri Pi, React Native, Git\n",
      "\n",
      "2) The Ripple Effect\n",
      "- A blockchain based de-centralised application that aims to bring transparency to the process of fundraising and managing donations for various types of charities.\n",
      "- Utilised: NodeJS, React, Ganache, Truffle, Ethereum\n",
      "\n",
      "Education:\n",
      "\n",
      "FAST National University of Computer and Emerging Sciences\n",
      "Islamabad, Pakistan | Aug 2018 - Jun 2022\n",
      "\n",
      "Bachelor of Science in Computer Science (GPA: 3.34)\n",
      "Minor in Artificial Intelligence\n",
      "Officer of FAST Development Club (FDC); Managed the App Development Competition during NASCON.\n"
     ]
    }
   ],
   "source": [
    "# Read CV from a text file\n",
    "cv_text = \"\"\n",
    "try:\n",
    "    with open('resume.txt', 'r') as file:\n",
    "        cv_text = file.read()\n",
    "\n",
    "except FileNotFoundError:\n",
    "    print(\"The specified CV file was not found. Please ensure 'resume.txt' is in the correct directory.\")\n",
    "\n",
    "print(cv_text)"
   ]
  },
  {
   "cell_type": "code",
   "execution_count": 9,
   "metadata": {},
   "outputs": [
    {
     "name": "stdout",
     "output_type": "stream",
     "text": [
      "CV Summary:\n",
      "**Summary of Aysha Noor's CV**\n",
      "\n",
      "**Contact Information:**\n",
      "- Phone: +92 306 5354366\n",
      "- Location: Islamabad, Pakistan\n",
      "- Email: ayshanoor2030@gmail.com\n",
      "- GitHub: [github.com/ayshanoorr](https://github.com/ayshanoorr)\n",
      "- LinkedIn: [linkedin.com/in/aysha-noor-3344a8221](https://linkedin.com/in/aysha-noor-3344a8221)\n",
      "- Credly: [credly.com/users/aysha-noor](https://credly.com/users/aysha-noor)\n",
      "\n",
      "**Professional Profile:**\n",
      "- Software Engineer with a Bachelor’s in Computer Science and over 2 years of experience in developing microservices and REST APIs using Python, Java, and cloud technologies. Recently focused on large language models (LLMs).\n",
      "\n",
      "**Key Competencies:**\n",
      "- **Programming Languages:** Python, Java, Spring, Go (familiar)\n",
      "- **Cloud & DevOps:** AWS, Docker, Kubernetes, Apache Kafka\n",
      "- **Databases:** MySQL, Oracle, MariaDB, DynamoDB\n",
      "- **Other Skills:** RESTful API Development, Agile Development, Team Collaboration, Git, GitHub\n",
      "\n",
      "**Professional Experience:**\n",
      "1. **IBM - Software Engineer (Feb 2024 - Present):**\n",
      "   - Developed REST APIs for subscription management; utilized MariaDB for data querying.\n",
      "   - Created a GenAI solution using WatsonX API and Mistral LLM to generate customer personas.\n",
      "   - Implemented a Spring microservice to streamline marketing campaign management.\n",
      "   - Worked with Kafka, DynamoDB, MariaDB, and contributed to deployment on EKS clusters.\n",
      "\n",
      "2. **IBM - Data Analyst (Aug 2022 - Feb 2024):**\n",
      "   - Optimized campaign targeting leading to reduced support escalations.\n",
      "   - Developed over 50 marketing campaigns, achieving 100% success rate in delivery.\n",
      "   - Automated data workflows with Python to enhance efficiency.\n",
      "\n",
      "3. **SolutionAve - Full Stack Developer (Jan 2022 - Apr 2022):**\n",
      "   - Built an ESports application leveraging React Native, Go, and MongoDB.\n",
      "\n",
      "4. **Zixel Technologies - Microservices Developer Intern (Jun 2023 - Aug 2023):**\n",
      "   - Collaborated on an AI-integrated collaborative platform.\n",
      "\n",
      "**Projects:**\n",
      "1. **Automate It:**\n",
      "   - Developed a voice-controlled Python application for smart home appliances.\n",
      "   - Technologies used: Tensorflow, Keras, Raspberry Pi, React Native.\n",
      "\n",
      "2. **The Ripple Effect:**\n",
      "   - Created a blockchain-based application for transparent fundraising.\n",
      "   - Technologies used: NodeJS, React, Ganache, Truffle, Ethereum.\n",
      "\n",
      "**Education:**\n",
      "- **Bachelor of Science in Computer Science** (GPA: 3.34) with a Minor in Artificial Intelligence from FAST National University (Aug 2018 - Jun 2022). \n",
      "- Officer of the FAST Development Club, managing app development competitions. \n",
      "\n",
      "Overall, Aysha Noor is a competent software engineer with a solid background in cloud technologies and microservices, complemented by experience in data analysis and a keen interest in AI applications.\n"
     ]
    },
    {
     "name": "stdin",
     "output_type": "stream",
     "text": [
      "Enter the job description for the position you are applying for:\n",
      " A leading software development company based in Riyadh, Saudi Arabia. We specialize in providing innovative and cutting-edge solutions to our clients in various industries. Our team of highly skilled developers and designers work together to deliver high-quality and customized software solutions that meet our clients' specific needs.  Job Overview:  We are seeking a talented and experienced Software Developer to join our team in Riyadh, Saudi Arabia. The ideal candidate will have a strong background in software development and a passion for creating innovative solutions. As a Software Developer at Freelancerprox, you will be responsible for designing, developing, and maintaining software applications and systems for our clients.  Key Responsibilities:   Collaborate with cross-functional teams to understand client requirements and design software solutions that meet their needs  Develop and maintain software applications and systems using programming languages such as Java, C++, and Python  Write efficient, clean, and well-documented code  Troubleshoot and debug software issues  Conduct thorough testing to ensure the quality and functionality of the software  Keep up-to-date with emerging technologies and trends in software development  Work closely with project managers and other team members to ensure timely delivery of projects  Provide technical support to clients as needed   Qualifications:   Bachelor's degree in Computer Science, Software Engineering, or a related field  Minimum of 3 years of experience in software development  Strong proficiency in programming languages such as Java, C++, and Python  Experience with web development frameworks such as Angular, React, or Vue.js  Knowledge of database management and SQL  Familiarity with Agile development methodologies  Excellent problem-solving and analytical skills  Strong communication and teamwork abilities  Ability to work independently and handle multiple projects simultaneously  Experience working in a fast-paced environment.\n"
     ]
    },
    {
     "name": "stdout",
     "output_type": "stream",
     "text": [
      "\n",
      "Generated Cover Letter:\n",
      "**Aysha Noor**  \n",
      "Islamabad, Pakistan  \n",
      "ayshanoor2030@gmail.com  \n",
      "+92 306 5354366  \n",
      "[Date]  \n",
      "\n",
      "**Hiring Manager**  \n",
      "Freelancerprox  \n",
      "Riyadh, Saudi Arabia  \n",
      "\n",
      "Dear Hiring Manager,\n",
      "\n",
      "I am writing to express my interest in the Software Developer position at Freelancerprox, as advertised. With a Bachelor’s degree in Computer Science, over two years of hands-on experience in software development, and a strong foundation in programming languages such as Python and Java, I am confident in my ability to contribute effectively to your innovative team.\n",
      "\n",
      "During my tenure at IBM, I honed my skills in developing microservices and REST APIs, where I successfully created solutions for subscription management and marketing campaign management. By leveraging cloud technologies and utilizing tools like AWS and Docker, I ensured the efficiency and scalability of the applications I developed. My experience in deploying applications on EKS clusters and working with databases such as MariaDB and DynamoDB has equipped me with a solid understanding of software architecture and deployment.\n",
      "\n",
      "What excites me about the opportunity at Freelancerprox is your commitment to delivering tailored software solutions across various industries. I thrive in collaborative environments, as seen in my role as a Full Stack Developer at SolutionAve, where I contributed to the development of an Esports application. I believe my ability to collaborate with cross-functional teams and my dedication to understanding client requirements will make me an asset to your organization.\n",
      "\n",
      "My technical proficiencies also extend to tools and frameworks such as Angular and React, which, while I have utilized primarily in personal projects, I am eager to develop further through real-world application. Additionally, I am well-versed in Agile methodologies, enabling me to adapt quickly to fast-paced environments, balance multiple projects, and maintain effective communication with team members and clients alike.\n",
      "\n",
      "I am particularly passionate about leveraging emerging technologies and trends, especially within the realm of Artificial Intelligence, which aligns closely with the innovative solutions provided by Freelancerprox. I am enthusiastic about the possibility of contributing to projects that push the boundaries of what's possible in software development.\n",
      "\n",
      "I would welcome the opportunity to further discuss how my experiences and vision align with the goals of Freelancerprox. Thank you for considering my application. I look forward to the potential of joining your talented team and contributing to exceptional software solutions.\n",
      "\n",
      "Warmest regards,\n",
      "\n",
      "Aysha Noor  \n",
      "[LinkedIn](https://linkedin.com/in/aysha-noor-3344a8221) | [GitHub](https://github.com/ayshanoorr) | [Credly](https://credly.com/users/aysha-noor)\n"
     ]
    }
   ],
   "source": [
    "# Summarize the CV\n",
    "cv_summary = summarize_cv(cv_text)\n",
    "print(\"CV Summary:\")\n",
    "print(cv_summary)\n",
    "\n",
    "# Get job description from user\n",
    "job_description = input(\"Enter the job description for the position you are applying for:\\n\")\n",
    "\n",
    "# Generate cover letter\n",
    "cover_letter = generate_cover_letter(cv_summary, job_description)\n",
    "print(\"\\nGenerated Cover Letter:\")\n",
    "print(cover_letter)"
   ]
  },
  {
   "cell_type": "code",
   "execution_count": null,
   "metadata": {},
   "outputs": [],
   "source": []
  }
 ],
 "metadata": {
  "kernelspec": {
   "display_name": "Python 3 (ipykernel)",
   "language": "python",
   "name": "python3"
  },
  "language_info": {
   "codemirror_mode": {
    "name": "ipython",
    "version": 3
   },
   "file_extension": ".py",
   "mimetype": "text/x-python",
   "name": "python",
   "nbconvert_exporter": "python",
   "pygments_lexer": "ipython3",
   "version": "3.11.11"
  }
 },
 "nbformat": 4,
 "nbformat_minor": 4
}
